{
  "nbformat": 4,
  "nbformat_minor": 0,
  "metadata": {
    "colab": {
      "provenance": [],
      "authorship_tag": "ABX9TyNjUhGTe8tL5zr4/3FigtqO",
      "include_colab_link": true
    },
    "kernelspec": {
      "name": "python3",
      "display_name": "Python 3"
    },
    "language_info": {
      "name": "python"
    }
  },
  "cells": [
    {
      "cell_type": "markdown",
      "metadata": {
        "id": "view-in-github",
        "colab_type": "text"
      },
      "source": [
        "<a href=\"https://colab.research.google.com/github/tam1444AH/UH-Insure-NSA/blob/main/scripts/code_parser.ipynb\" target=\"_parent\"><img src=\"https://colab.research.google.com/assets/colab-badge.svg\" alt=\"Open In Colab\"/></a>"
      ]
    },
    {
      "cell_type": "code",
      "execution_count": null,
      "metadata": {
        "id": "h67W1rpmcrjf"
      },
      "outputs": [],
      "source": [
        "import json\n",
        "from pathlib import Path\n",
        "\n",
        "file_path = \"../cryptol/examples/Karatsuba.cry\"\n",
        "\n",
        "# Path to your source code file\n",
        "source_path = Path(file_path)\n",
        "\n",
        "# Path to save JSON output\n",
        "json_path = Path(\"data/source_code.jsonl\")\n",
        "\n",
        "# Read the source file as text\n",
        "with open(source_path, \"r\", encoding=\"utf-8\") as f:\n",
        "    source_text = f.read()\n",
        "\n",
        "# Wrap it in a dictionary so it's JSON-serializable\n",
        "data = {\"filename\": str(source_path),\"content\": source_text}\n",
        "\n",
        "# Write JSON to disk\n",
        "with open(json_path, \"w\", encoding=\"utf-8\") as f:\n",
        "    #json.dumps(data, f, indent=2, ensure_ascii=False)\n",
        "    f.write(json.dumps(data) + \"\\n\")\n",
        "\n",
        "print(f\"Source code saved to {json_path}\")"
      ]
    }
  ]
}