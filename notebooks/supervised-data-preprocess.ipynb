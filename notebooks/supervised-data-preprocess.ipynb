{
  "nbformat": 4,
  "nbformat_minor": 0,
  "metadata": {
    "colab": {
      "provenance": [],
      "machine_shape": "hm",
      "gpuType": "A100",
      "authorship_tag": "ABX9TyMnVd7uMceMhK94yIsgnFNc",
      "include_colab_link": true
    },
    "kernelspec": {
      "name": "python3",
      "display_name": "Python 3"
    },
    "language_info": {
      "name": "python"
    },
    "accelerator": "GPU"
  },
  "cells": [
    {
      "cell_type": "markdown",
      "metadata": {
        "id": "view-in-github",
        "colab_type": "text"
      },
      "source": [
        "<a href=\"https://colab.research.google.com/github/tam1444AH/Finetuning-Qwen3/blob/main/notebooks/supervised-data-preprocess.ipynb\" target=\"_parent\"><img src=\"https://colab.research.google.com/assets/colab-badge.svg\" alt=\"Open In Colab\"/></a>"
      ]
    },
    {
      "cell_type": "code",
      "source": [
        "from google.colab import userdata"
      ],
      "metadata": {
        "id": "5b474opKXlTi"
      },
      "execution_count": null,
      "outputs": []
    },
    {
      "cell_type": "code",
      "source": [
        "import os, re, json\n",
        "from pathlib import Path"
      ],
      "metadata": {
        "id": "c0FAOXqVSN86"
      },
      "execution_count": null,
      "outputs": []
    },
    {
      "cell_type": "code",
      "source": [
        "SRC = Path(\"/content/all_hybrid.jsonl\")\n",
        "OUT = Path(\"/content/sft_supervised_llm.jsonl\")\n",
        "\n",
        "HF_MODEL = \"Qwen/Qwen3-Coder-30B-A3B-Instruct\"\n",
        "HF_PROVIDER = \"nebius\"\n",
        "\n",
        "SYSTEM = (\n",
        "    \"You are a data writer creating high-quality programming tasks for the Cryptol language.\\n\"\n",
        "    \"Turn a Cryptol declaration (name + type signature) into a rich task for a code model.\\n\"\n",
        "    \"Rules:\\n\"\n",
        "    \"- Include the exact type signature in a fenced block.\\n\"\n",
        "    \"- Use this format:\\n\"\n",
        "    \"  ### Instruction:\\n\"\n",
        "    \"  ### Request:\\n\"\n",
        "    \"  ### Constraints & Hints:\\n\"\n",
        "    \"- Do NOT include any Cryptol code other than the signature fence.\\n\"\n",
        "    \"- Do NOT reveal solution details.\\n\"\n",
        "    \"- Mention bytes as [8], strings as [n][8] when relevant; respect polymorphism and constraints.\\n\"\n",
        "    \"- 120–300 words.\\n\"\n",
        "    '- End with: \\\"Output exactly one code block in the format ```cryptol …``` and nothing else.\\\"'\n",
        ")\n",
        "\n",
        "USER_TMPL = (\n",
        "    \"Write a rich task for the following Cryptol declaration.\\n\\n\"\n",
        "    \"- Name: {name}\\n\"\n",
        "    \"- Kind: {kind}\\n\"\n",
        "    \"- Signature:\\n\"\n",
        "    \"```cryptol\\n\"\n",
        "    \"{name} : {signature}\\n\"\n",
        "    \"```\\n\"\n",
        "    \"- Module (if any): {module}\\n\"\n",
        "    \"- Notes: Keep the task general, do not leak implementation. Encourage properties/edge cases, but no code.\"\n",
        ")"
      ],
      "metadata": {
        "id": "jRO71C_KT42s"
      },
      "execution_count": null,
      "outputs": []
    },
    {
      "cell_type": "code",
      "source": [
        "SIG_RE = re.compile(r\"^\\s*([A-Za-z_][\\w']*)\\s*:\\s*(.+)$\", re.M)\n",
        "\n",
        "def extract_decls(cryptol_src: str):\n",
        "    decls = []\n",
        "    for m in SIG_RE.finditer(cryptol_src):\n",
        "        name, sig = m.group(1), m.group(2).strip()\n",
        "        kind = \"property\" if \" Bit\" in f\" {sig} \" else \"function\"\n",
        "        decls.append({\"name\": name, \"signature\": sig, \"kind\": kind})\n",
        "    return decls\n",
        "\n",
        "def get_client():\n",
        "    from huggingface_hub import InferenceClient\n",
        "    token = userdata.get('HF_TOKEN')  # must be set\n",
        "    return InferenceClient(provider=HF_PROVIDER, api_key=token)\n",
        "\n",
        "def call_llm(client, system: str, user: str) -> str:\n",
        "    out = client.chat.completions.create(\n",
        "        model=HF_MODEL,\n",
        "        messages=[{\"role\":\"system\",\"content\":system},\n",
        "                  {\"role\":\"user\",\"content\":user}],\n",
        "        temperature=0.4,\n",
        "        max_tokens=700,\n",
        "    )\n",
        "    return out.choices[0].message.content"
      ],
      "metadata": {
        "id": "4t8jg8arVw6H"
      },
      "execution_count": null,
      "outputs": []
    },
    {
      "cell_type": "code",
      "source": [
        "def main():\n",
        "    client = get_client()\n",
        "    task_id = 1\n",
        "    with SRC.open() as fin, OUT.open(\"w\") as fout:\n",
        "        for line in fin:\n",
        "            row = json.loads(line)\n",
        "            if row.get(\"set\") != \"supervised\":\n",
        "                continue\n",
        "            if row.get(\"filetype\") != \"cry\":\n",
        "              continue\n",
        "            src = (row.get(\"content\") or \"\").strip()\n",
        "            if not src:\n",
        "                continue\n",
        "            module = Path(row.get(\"filename\",\"\")).stem or \"n/a\"\n",
        "            decls = extract_decls(src)\n",
        "            if not decls:\n",
        "                continue\n",
        "            for d in decls:\n",
        "                user = USER_TMPL.format(\n",
        "                    name=d[\"name\"], kind=d[\"kind\"], signature=d[\"signature\"], module=module\n",
        "                )\n",
        "                task = call_llm(client, SYSTEM, user).strip()\n",
        "                record = {\n",
        "                    \"task_id\": task_id,\n",
        "                    \"type\": d[\"kind\"],\n",
        "                    \"task\": task,\n",
        "                    \"solution\": f\"```cryptol\\n{src}\\n```\",\n",
        "                    \"supervised\": True,\n",
        "                }\n",
        "                fout.write(json.dumps(record, ensure_ascii=False) + \"\\n\")\n",
        "                task_id += 1\n",
        "\n",
        "if __name__ == \"__main__\":\n",
        "    main()"
      ],
      "metadata": {
        "id": "f6D0pA0kWNIt"
      },
      "execution_count": null,
      "outputs": []
    },
    {
      "cell_type": "code",
      "source": [
        "# from google.colab import runtime\n",
        "# runtime.unassign()"
      ],
      "metadata": {
        "id": "qimKYOzAaZKK"
      },
      "execution_count": null,
      "outputs": []
    }
  ]
}