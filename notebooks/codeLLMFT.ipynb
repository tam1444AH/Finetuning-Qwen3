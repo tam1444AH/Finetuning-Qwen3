{
  "nbformat": 4,
  "nbformat_minor": 0,
  "metadata": {
    "colab": {
      "provenance": [],
      "machine_shape": "hm",
      "gpuType": "A100",
      "include_colab_link": true
    },
    "kernelspec": {
      "name": "python3",
      "display_name": "Python 3"
    },
    "language_info": {
      "name": "python"
    },
    "accelerator": "GPU"
  },
  "cells": [
    {
      "cell_type": "markdown",
      "metadata": {
        "id": "view-in-github",
        "colab_type": "text"
      },
      "source": [
        "<a href=\"https://colab.research.google.com/github/tam1444AH/UH-Insure-NSA/blob/main/notebooks/codeLLMFT.ipynb\" target=\"_parent\"><img src=\"https://colab.research.google.com/assets/colab-badge.svg\" alt=\"Open In Colab\"/></a>"
      ]
    },
    {
      "cell_type": "code",
      "source": [
        "import os\n",
        "import shutil\n",
        "%pip install nbstripout\n",
        "\n",
        "REPO_URL=\"https://github.com/tam1444AH/UH-Insure-NSA.git\"\n",
        "REPO=\"UH-Insure-NSA\"\n",
        "\n",
        "os.chdir(\"/content\")\n",
        "\n",
        "# If repo exists, update it; otherwise, clone fresh\n",
        "if os.path.exists(REPO):\n",
        "    print(f\"Repo '{REPO}' exists, pulling latest changes...\")\n",
        "    os.chdir(REPO)\n",
        "    !git reset --hard HEAD   # optional: discard local changes\n",
        "    !git pull\n",
        "else:\n",
        "    print(f\"Cloning repo '{REPO}'...\")\n",
        "    !git clone \"$REPO_URL\" \"$REPO\"\n",
        "    os.chdir(REPO)\n",
        "\n",
        "!nbstripout --install\n",
        "!git branch -a\n",
        "\n",
        "\n",
        "# Install dependencies if present\n",
        "if os.path.exists(\"requirements.txt\"):\n",
        "    !pip install -r requirements.txt\n",
        "if os.path.exists(\"pyproject.toml\"):\n",
        "    !pip install -e ."
      ],
      "metadata": {
        "id": "vhsfjOTsdjHg"
      },
      "execution_count": null,
      "outputs": []
    },
    {
      "cell_type": "code",
      "source": [
        "from model.test import test\n",
        "test()"
      ],
      "metadata": {
        "id": "Wgetafsaeq2E"
      },
      "execution_count": null,
      "outputs": []
    },
    {
      "cell_type": "code",
      "source": [
        "!pip -q install -U huggingface_hub hf_transfer\n",
        "!export HF_HUB_ENABLE_HF_TRANSFER=1\n",
        "\n",
        "import os\n",
        "from google.colab import userdata\n",
        "from huggingface_hub import login, whoami\n",
        "\n",
        "os.environ[\"PYTORCH_CUDA_ALLOC_CONF\"] = \"expandable_segments:True\"  # mitigate fragmentation\n",
        "os.environ[\"HF_HUB_ENABLE_HF_TRANSFER\"] = \"1\"\n",
        "HF_TOKEN = userdata.get('HF_TOKEN')\n",
        "login(token=HF_TOKEN, add_to_git_credential=True)  # also sets Git creds for LFS\n",
        "\n",
        "print(\"Logged in as:\", whoami(token=HF_TOKEN)[\"name\"])"
      ],
      "metadata": {
        "id": "kYAEaTXfi5IL"
      },
      "execution_count": null,
      "outputs": []
    },
    {
      "cell_type": "code",
      "source": [
        "from google.colab import auth\n",
        "auth.authenticate_user()"
      ],
      "metadata": {
        "id": "dlU0gNQY_guS",
        "collapsed": true
      },
      "execution_count": null,
      "outputs": []
    },
    {
      "cell_type": "code",
      "source": [
        "os.chdir(\"/content\")\n",
        "!pip install -q transformers datasets\n",
        "\n",
        "import json, random\n",
        "from datasets import load_dataset, Dataset, concatenate_datasets\n",
        "from transformers import AutoTokenizer"
      ],
      "metadata": {
        "id": "U2UgisCib_pa"
      },
      "execution_count": null,
      "outputs": []
    },
    {
      "cell_type": "code",
      "source": [
        "!pip install -q transformers datasets peft bitsandbytes flash-attn\n",
        "\n",
        "MODEL = \"Qwen/Qwen3-Coder-30B-A3B-Instruct\"  # Model checkpoint on the Hugging Face Hub\n",
        "DATASET = \"/content/unsupervised_hybrid_data.jsonl\" # Josh's preproccesed dataset.\n",
        "DATA_COLUMN = \"content\"  # Column name containing the code content\n",
        "\n",
        "SEQ_LENGTH = 2048  # Sequence length\n",
        "\n",
        "# Training arguments\n",
        "MAX_STEPS = 50 #2000  # max_steps\n",
        "BATCH_SIZE = 12  # batch_size\n",
        "GR_ACC_STEPS = 2  # gradient_accumulation_steps\n",
        "LR = 2e-4                     # learning_rate\n",
        "LR_SCHEDULER_TYPE = \"cosine\"  # lr_scheduler_type\n",
        "WEIGHT_DECAY = 0.05  # weight_decay\n",
        "NUM_WARMUP_STEPS = 15  # num_warmup_steps\n",
        "EVAL_FREQ = 25\n",
        "SAVE_FREQ = 50\n",
        "LOG_FREQ = 10\n",
        "OUTPUT_DIR = \"peft-FT-3-Coder-30b\"  # output_dir\n",
        "BF16 = True  # bf16\n",
        "FP16 = False  # no_fp16\n",
        "\n",
        "# FIM trasformations arguments\n",
        "# FIM_RATE = 0.25  # fim_rate\n",
        "# FIM_SPM_RATE = 0.5  # fim_spm_rate\n",
        "FIM_RATE = 0  # fim_rate\n",
        "FIM_SPM_RATE = 0  # fim_spm_rate\n",
        "\n",
        "# LORA\n",
        "LORA_R = 16  # lora_r\n",
        "LORA_ALPHA = 32  # lora_alpha\n",
        "LORA_DROPOUT = 0.05  # lora_dropout\n",
        "LORA_TARGET_MODULES = \"c_proj,c_attn,q_attn,c_fc,c_proj\"  # lora_target_modules\n",
        "\n",
        "# bitsandbytes config\n",
        "USE_NESTED_QUANT = True  # use_nested_quant\n",
        "BNB_4BIT_COMPUTE_DTYPE = \"bfloat16\"  # bnb_4bit_compute_dtype\n",
        "\n",
        "SEED = 0"
      ],
      "metadata": {
        "id": "_exHfg8sVH3J"
      },
      "execution_count": null,
      "outputs": []
    },
    {
      "cell_type": "code",
      "source": [
        "from transformers import (\n",
        "    AutoModelForCausalLM,\n",
        "    AutoTokenizer,\n",
        "    Trainer,\n",
        "    TrainingArguments,\n",
        "    logging,\n",
        "    set_seed,\n",
        "    BitsAndBytesConfig,\n",
        ")\n",
        "\n",
        "set_seed(SEED)"
      ],
      "metadata": {
        "id": "8lRTsgnlVcMN"
      },
      "execution_count": null,
      "outputs": []
    },
    {
      "cell_type": "code",
      "source": [
        "import torch\n",
        "from tqdm import tqdm\n",
        "\n",
        "SRC = \"/content/unsupervised_hybrid_data.jsonl\"\n",
        "\n",
        "tokenizer = AutoTokenizer.from_pretrained(MODEL, trust_remote_code=True)\n",
        "\n",
        "def detect_type(filename):\n",
        "  if filename.endswith(\".cry\"):\n",
        "    return \"cryptol\"\n",
        "  elif filename.endswith(\".saw\"):\n",
        "    return \"saw\"\n",
        "  else:\n",
        "    return \"text\"\n",
        "\n",
        "dataset = load_dataset(\"json\", data_files={\"data\": SRC})[\"data\"]\n",
        "dataset = dataset.map(lambda x: {\"type\": detect_type(x[\"filename\"])})\n",
        "\n",
        "cryptol = dataset.filter(lambda x: x[\"type\"] == \"cryptol\")\n",
        "saw = dataset.filter(lambda x: x[\"type\"] == \"saw\")\n",
        "text = dataset.filter(lambda x: x[\"type\"] == \"text\")\n",
        "\n",
        "cryptol_split = cryptol.train_test_split(test_size=0.1, seed=42)\n",
        "saw_split = saw.train_test_split(test_size=0.1, seed=42)\n",
        "text_split = text.train_test_split(test_size=0.1, seed=42)\n",
        "\n",
        "train_ds = concatenate_datasets([cryptol_split[\"train\"], saw_split[\"train\"], text_split[\"train\"]])\n",
        "eval_ds = concatenate_datasets([cryptol_split[\"test\"], saw_split[\"test\"], text_split[\"test\"]])\n",
        "\n",
        "print(train_ds[0].keys())\n",
        "assert DATA_COLUMN in train_ds.column_names, f\"Missing '{DATA_COLUMN}' in JSONL!\"\n",
        "\n",
        "print(eval_ds[0].keys())\n",
        "assert DATA_COLUMN in eval_ds.column_names, f\"Missing '{DATA_COLUMN}' in JSONL!\"\n",
        "\n",
        "print(len(train_ds), len(eval_ds))\n",
        "\n",
        "def chars_token_ratio(dataset, tokenizer, data_column, nb_examples=400):\n",
        "    \"\"\"\n",
        "    Estimate the average number of characters per token in the dataset.\n",
        "    \"\"\"\n",
        "\n",
        "    total_characters, total_tokens = 0, 0\n",
        "    for _, example in tqdm(zip(range(nb_examples), iter(dataset)), total=nb_examples):\n",
        "        total_characters += len(example[data_column])\n",
        "        total_tokens += len(tokenizer(example[data_column]).tokens())\n",
        "\n",
        "    return total_characters / total_tokens\n",
        "\n",
        "\n",
        "chars_per_token = chars_token_ratio(train_ds, tokenizer, DATA_COLUMN)\n",
        "print(f\"The character to token ratio of the dataset is: {chars_per_token:.2f}\")"
      ],
      "metadata": {
        "id": "vlcO8zw22Ycd"
      },
      "execution_count": null,
      "outputs": []
    },
    {
      "cell_type": "code",
      "source": [
        "from model.dataset.util import *"
      ],
      "metadata": {
        "id": "_WIZWSfIJBaS"
      },
      "execution_count": null,
      "outputs": []
    },
    {
      "cell_type": "code",
      "source": [
        "from model.dataset.constantLengthDataset import ConstantLengthDataset\n",
        "import torch\n",
        "\n",
        "def make_overlapping_chunks(texts, tokenizer, seq_length=2048, stride=1024):\n",
        "  tokens = tokenizer(texts, add_special_tokens=False)[\"input_ids\"]\n",
        "  flat = [token for seq in tokens for token in seq]\n",
        "  chunks = []\n",
        "\n",
        "  for i in range(0, len(flat) - seq_length, stride):\n",
        "    chunk = flat[i : i + seq_length]\n",
        "    chunks.append(tokenizer.decode(chunk))\n",
        "\n",
        "  return chunks\n",
        "\n",
        "overlap_train = make_overlapping_chunks(\n",
        "    [item[DATA_COLUMN] for item in train_ds],\n",
        "    tokenizer,\n",
        "    seq_length=SEQ_LENGTH,\n",
        "    stride=SEQ_LENGTH // 2\n",
        ")\n",
        "\n",
        "overlap_eval = make_overlapping_chunks(\n",
        "    [item[DATA_COLUMN] for item in eval_ds],\n",
        "    tokenizer,\n",
        "    seq_length=SEQ_LENGTH,\n",
        "    stride=SEQ_LENGTH // 2\n",
        ")\n",
        "\n",
        "train_ds_overlap = Dataset.from_dict({DATA_COLUMN: overlap_train})\n",
        "eval_ds_overlap = Dataset.from_dict({DATA_COLUMN: overlap_eval})\n",
        "\n",
        "\n",
        "train_dataset = ConstantLengthDataset(\n",
        "        tokenizer,\n",
        "        train_ds_overlap,\n",
        "        infinite=True,\n",
        "        seq_length=SEQ_LENGTH,\n",
        "        chars_per_token=chars_per_token,\n",
        "        content_field=DATA_COLUMN,\n",
        "        fim_rate=FIM_RATE,\n",
        "        fim_spm_rate=FIM_SPM_RATE,\n",
        "        seed=SEED,\n",
        ")\n",
        "eval_dataset = ConstantLengthDataset(\n",
        "        tokenizer,\n",
        "        eval_ds_overlap,\n",
        "        infinite=False,\n",
        "        seq_length=SEQ_LENGTH,\n",
        "        chars_per_token=chars_per_token,\n",
        "        content_field=DATA_COLUMN,\n",
        "        fim_rate=FIM_RATE,\n",
        "        fim_spm_rate=FIM_SPM_RATE,\n",
        "        seed=SEED,\n",
        ")"
      ],
      "metadata": {
        "id": "tC8QbrmIJBcm"
      },
      "execution_count": null,
      "outputs": []
    },
    {
      "cell_type": "code",
      "source": [
        "from peft import LoraConfig, get_peft_model, prepare_model_for_kbit_training\n",
        "from peft.tuners.lora import LoraLayer\n",
        "\n",
        "load_in_8bit = False\n",
        "\n",
        "# 4-bit quantization\n",
        "compute_dtype = getattr(torch, BNB_4BIT_COMPUTE_DTYPE)\n",
        "\n",
        "bnb_config = BitsAndBytesConfig(\n",
        "    load_in_4bit=True,\n",
        "    bnb_4bit_quant_type=\"nf4\",\n",
        "    bnb_4bit_compute_dtype=compute_dtype,\n",
        "    bnb_4bit_use_double_quant=USE_NESTED_QUANT,\n",
        ")\n",
        "\n",
        "base = AutoModelForCausalLM.from_pretrained(\n",
        "        MODEL,\n",
        "        load_in_8bit=load_in_8bit,\n",
        "        quantization_config=bnb_config,\n",
        "        dtype=torch.bfloat16,\n",
        "        device_map=\"auto\",\n",
        "        use_cache=False,  # We will be using gradient checkpointing\n",
        "        trust_remote_code=True,\n",
        "        attn_implementation=\"flash_attention_2\",\n",
        ")\n",
        "\n",
        "model = prepare_model_for_kbit_training(base)"
      ],
      "metadata": {
        "id": "6r7iIuyAJBg0"
      },
      "execution_count": null,
      "outputs": []
    },
    {
      "cell_type": "code",
      "source": [
        "blk = model.model.layers[0]           # Llama/Qwen-style\n",
        "print(\"ATTN:\", blk.self_attn)         # has q_proj, k_proj, v_proj, o_proj\n",
        "print(\"MLP:\", blk.mlp)\n",
        "target_modules = [\"q_proj\",\"k_proj\",\"v_proj\",\"o_proj\", \"gate\"]"
      ],
      "metadata": {
        "id": "P5monDpDR8_n"
      },
      "execution_count": null,
      "outputs": []
    },
    {
      "cell_type": "code",
      "source": [
        "# Set up lora\n",
        "from peft import PeftModel\n",
        "\n",
        "peft_config = LoraConfig(\n",
        "    lora_alpha=LORA_ALPHA,\n",
        "    lora_dropout=LORA_DROPOUT,\n",
        "    r=LORA_R,\n",
        "    bias=\"none\",\n",
        "    task_type=\"CAUSAL_LM\",\n",
        "    target_modules=target_modules,\n",
        ")\n",
        "\n",
        "# model = PeftModel.from_pretrained(base, \"tam2003/peft-FT-3-Coder-30b\") # If your just trying to test the model.\n",
        "model = get_peft_model(base, peft_config) # If you want to continue training.\n",
        "\n",
        "model.print_trainable_parameters()"
      ],
      "metadata": {
        "id": "-RFqsImVJBjW"
      },
      "execution_count": null,
      "outputs": []
    },
    {
      "cell_type": "code",
      "source": [
        "train_ds.start_iteration = 0\n",
        "\n",
        "training_args = TrainingArguments(\n",
        "    output_dir=f\"tam1444AH/{OUTPUT_DIR}\",\n",
        "    dataloader_drop_last=True,\n",
        "    eval_strategy=\"steps\",\n",
        "    save_strategy=\"steps\",\n",
        "    report_to=[\"tensorboard\"],\n",
        "    max_steps=MAX_STEPS,\n",
        "    eval_steps=EVAL_FREQ,\n",
        "    save_steps=SAVE_FREQ,\n",
        "    logging_steps=LOG_FREQ,\n",
        "    per_device_train_batch_size=BATCH_SIZE,\n",
        "    per_device_eval_batch_size=BATCH_SIZE,\n",
        "    learning_rate=LR,\n",
        "    lr_scheduler_type=LR_SCHEDULER_TYPE,\n",
        "    warmup_steps=NUM_WARMUP_STEPS,\n",
        "    gradient_accumulation_steps=GR_ACC_STEPS,\n",
        "    gradient_checkpointing=True,\n",
        "    fp16=FP16,\n",
        "    bf16=BF16,\n",
        "    weight_decay=WEIGHT_DECAY,\n",
        "    push_to_hub=True,\n",
        "    include_tokens_per_second=True,\n",
        "    resume_from_checkpoint=False,\n",
        "    dataloader_num_workers=4,\n",
        "    dataloader_prefetch_factor=2,\n",
        ")\n",
        "\n",
        "print(f\"Training samples: {len(train_ds)}\")\n",
        "print(f\"Sample text:\\n\\n{train_ds[0][DATA_COLUMN][:400]}\")"
      ],
      "metadata": {
        "id": "If0nsW1tJNQJ"
      },
      "execution_count": null,
      "outputs": []
    },
    {
      "cell_type": "code",
      "source": [
        "import math\n",
        "\n",
        "trainer = Trainer(\n",
        "    model=model,\n",
        "    args=training_args,\n",
        "    train_dataset=train_dataset,\n",
        "    eval_dataset=eval_dataset,\n",
        "    tokenizer=tokenizer\n",
        ")\n",
        "\n",
        "print(\"Training...\")\n",
        "trainer.train(resume_from_checkpoint=False)\n",
        "\n",
        "eval_results = trainer.evaluate()\n",
        "eval_loss = eval_results[\"eval_loss\"]\n",
        "perplexity = math.exp(eval_loss)\n",
        "print(f\"Eval loss = {eval_loss:.2f}, Perplexity = {perplexity:.2f}\")"
      ],
      "metadata": {
        "id": "hrZA8wr0JNSd"
      },
      "execution_count": null,
      "outputs": []
    },
    {
      "cell_type": "code",
      "source": [
        "trainer.push_to_hub()"
      ],
      "metadata": {
        "id": "I-jKxX1UJdu5"
      },
      "execution_count": null,
      "outputs": []
    },
    {
      "cell_type": "code",
      "source": [
        "!pip install -q transformers peft\n",
        "!pip install -q transformers peft bitsandbytes accelerate\n",
        "\n",
        "from transformers import AutoTokenizer, AutoModelForCausalLM\n",
        "from peft import PeftModel\n",
        "\n",
        "# Base model load\n",
        "base = AutoModelForCausalLM.from_pretrained(\n",
        "    \"Qwen/Qwen3-Coder-30B-A3B-Instruct\",\n",
        "    dtype=torch.float16,\n",
        "    device_map=\"auto\",\n",
        "    trust_remote_code=True,\n",
        ")\n",
        "\n",
        "# Load LoRA fine-tuned adapter on top of it\n",
        "model = PeftModel.from_pretrained(base, \"tam2003/peft-FT-3-Coder-30b\")\n",
        "tokenizer = AutoTokenizer.from_pretrained(\"Qwen/Qwen3-Coder-30B-A3B-Instruct\", trust_remote_code=True)\n",
        "model.eval()\n"
      ],
      "metadata": {
        "id": "Nluh80FiGggK"
      },
      "execution_count": null,
      "outputs": []
    },
    {
      "cell_type": "code",
      "source": [
        "from transformers import pipeline\n",
        "import gc, torch\n",
        "gc.collect()\n",
        "torch.cuda.empty_cache()\n",
        "\n",
        "pipe = pipeline(\n",
        "    \"text-generation\",\n",
        "    model=model,\n",
        "    tokenizer=tokenizer,\n",
        "    device_map=\"balanced_low_0\",\n",
        "    dtype=\"bfloat16\",\n",
        ")\n",
        "\n",
        "prompt = \"\"\"\n",
        "Translate this English spec into Cryptol:\n",
        "\n",
        "\"A function sha256_hash that takes a 512-bit input block and returns a 256-bit digest.\"\n",
        "\"\"\"\n",
        "result = pipe(prompt, max_new_tokens=300)\n",
        "print(result[0][\"generated_text\"])\n",
        "\n",
        "prompts = [\n",
        "    'Translate this English spec into Cryptol:\\n\\n\"A function xor_inverse that proves (a XOR b) XOR b == a\"',\n",
        "    'Translate this English spec into Cryptol:\\n\\n\"A function sha256_hash that takes a 512-bit input and returns a 256-bit digest\"',\n",
        "    'Translate this English spec into Cryptol:\\n\\n\"Create a property proving that addition is commutative for 8-bit words.\"'\n",
        "]\n",
        "\n",
        "for p in prompts:\n",
        "    print(\"\\n=== Prompt ===\")\n",
        "    print(p)\n",
        "    inputs = tokenizer(p, return_tensors=\"pt\").to(\"cuda\")\n",
        "    outputs = model.generate(**inputs, max_new_tokens=150)\n",
        "    print(\"\\n--- Generated Cryptol ---\")\n",
        "    print(tokenizer.decode(outputs[0], skip_special_tokens=True))\n"
      ],
      "metadata": {
        "id": "bl7xpvXyzn_F"
      },
      "execution_count": null,
      "outputs": []
    }
  ]
}